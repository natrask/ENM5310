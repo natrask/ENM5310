{
  "nbformat": 4,
  "nbformat_minor": 0,
  "metadata": {
    "colab": {
      "provenance": [],
      "authorship_tag": "ABX9TyOq+Btlmbz1YH0tYj2u7N8P",
      "include_colab_link": true
    },
    "kernelspec": {
      "name": "python3",
      "display_name": "Python 3"
    },
    "language_info": {
      "name": "python"
    }
  },
  "cells": [
    {
      "cell_type": "markdown",
      "metadata": {
        "id": "view-in-github",
        "colab_type": "text"
      },
      "source": [
        "<a href=\"https://colab.research.google.com/github/natrask/ENM5310/blob/main/Graph_tutorial.ipynb\" target=\"_parent\"><img src=\"https://colab.research.google.com/assets/colab-badge.svg\" alt=\"Open In Colab\"/></a>"
      ]
    },
    {
      "cell_type": "code",
      "execution_count": 4,
      "metadata": {
        "colab": {
          "base_uri": "https://localhost:8080/"
        },
        "id": "N51UyFjEOkGx",
        "outputId": "ba845c01-62d3-4bc5-ea17-ffc4b729cf75"
      },
      "outputs": [
        {
          "output_type": "stream",
          "name": "stderr",
          "text": [
            "WARNING:tensorflow:From /usr/local/lib/python3.10/dist-packages/tensorflow/python/compat/v2_compat.py:108: disable_resource_variables (from tensorflow.python.ops.variable_scope) is deprecated and will be removed in a future version.\n",
            "Instructions for updating:\n",
            "non-resource variables are not supported in the long term\n"
          ]
        }
      ],
      "source": [
        "#!/usr/bin/env python\n",
        "# coding: utf-8\n",
        "# In[91]:\n",
        "import numpy as np\n",
        "import scipy\n",
        "import scipy.sparse\n",
        "import scipy.sparse.linalg\n",
        "import matplotlib.pyplot as plt\n",
        "import tensorflow.compat.v1 as tf\n",
        "tf.disable_v2_behavior()\n",
        "tf.reset_default_graph()\n",
        "config = tf.ConfigProto()\n",
        "sess = tf.Session(config=config)"
      ]
    },
    {
      "cell_type": "code",
      "source": [
        "Nnodes*(Nnodes-1)/2"
      ],
      "metadata": {
        "id": "zte4k3Tp6YXU",
        "outputId": "835082cc-f34e-4444-8aab-e1536cb0200c",
        "colab": {
          "base_uri": "https://localhost:8080/"
        }
      },
      "execution_count": 7,
      "outputs": [
        {
          "output_type": "execute_result",
          "data": {
            "text/plain": [
              "3.0"
            ]
          },
          "metadata": {},
          "execution_count": 7
        }
      ]
    },
    {
      "cell_type": "code",
      "source": [
        "Nnodes = 6\n",
        "delta = np.zeros((1,Nnodes))\n",
        "cnt=0\n",
        "for i in range(Nnodes):\n",
        "    for j in range(Nnodes):\n",
        "        if j > i:\n",
        "            delta[cnt][j] = 1.\n",
        "            delta[cnt][i] = -1.\n",
        "            cnt += 1\n",
        "\n",
        "#Recast as matrices\n",
        "delta = np.mat(delta)\n",
        "deltaT = delta.T\n",
        "graphLaplacian = np.einsum('ij,jk->ik',deltaT,delta)\n",
        "\n",
        "#Plot sparsity patterns of graph gradient and graph laplacians\n",
        "plt.spy(delta)\n",
        "plt.spy(graphLaplacian)"
      ],
      "metadata": {
        "id": "01BKSyvDOpxB",
        "outputId": "cddbb300-be6b-417b-cbf6-8a33c29a03c9",
        "colab": {
          "base_uri": "https://localhost:8080/",
          "height": 211
        }
      },
      "execution_count": 12,
      "outputs": [
        {
          "output_type": "error",
          "ename": "IndexError",
          "evalue": "index 1 is out of bounds for axis 0 with size 1",
          "traceback": [
            "\u001b[0;31m---------------------------------------------------------------------------\u001b[0m",
            "\u001b[0;31mIndexError\u001b[0m                                Traceback (most recent call last)",
            "\u001b[0;32m<ipython-input-12-c58cd3af54e9>\u001b[0m in \u001b[0;36m<cell line: 4>\u001b[0;34m()\u001b[0m\n\u001b[1;32m      5\u001b[0m     \u001b[0;32mfor\u001b[0m \u001b[0mj\u001b[0m \u001b[0;32min\u001b[0m \u001b[0mrange\u001b[0m\u001b[0;34m(\u001b[0m\u001b[0mNnodes\u001b[0m\u001b[0;34m)\u001b[0m\u001b[0;34m:\u001b[0m\u001b[0;34m\u001b[0m\u001b[0;34m\u001b[0m\u001b[0m\n\u001b[1;32m      6\u001b[0m         \u001b[0;32mif\u001b[0m \u001b[0mj\u001b[0m \u001b[0;34m>\u001b[0m \u001b[0mi\u001b[0m\u001b[0;34m:\u001b[0m\u001b[0;34m\u001b[0m\u001b[0;34m\u001b[0m\u001b[0m\n\u001b[0;32m----> 7\u001b[0;31m             \u001b[0mdelta\u001b[0m\u001b[0;34m[\u001b[0m\u001b[0mcnt\u001b[0m\u001b[0;34m]\u001b[0m\u001b[0;34m[\u001b[0m\u001b[0mj\u001b[0m\u001b[0;34m]\u001b[0m \u001b[0;34m=\u001b[0m \u001b[0;36m1.\u001b[0m\u001b[0;34m\u001b[0m\u001b[0;34m\u001b[0m\u001b[0m\n\u001b[0m\u001b[1;32m      8\u001b[0m             \u001b[0mdelta\u001b[0m\u001b[0;34m[\u001b[0m\u001b[0mcnt\u001b[0m\u001b[0;34m]\u001b[0m\u001b[0;34m[\u001b[0m\u001b[0mi\u001b[0m\u001b[0;34m]\u001b[0m \u001b[0;34m=\u001b[0m \u001b[0;34m-\u001b[0m\u001b[0;36m1.\u001b[0m\u001b[0;34m\u001b[0m\u001b[0;34m\u001b[0m\u001b[0m\n\u001b[1;32m      9\u001b[0m             \u001b[0mcnt\u001b[0m \u001b[0;34m+=\u001b[0m \u001b[0;36m1\u001b[0m\u001b[0;34m\u001b[0m\u001b[0;34m\u001b[0m\u001b[0m\n",
            "\u001b[0;31mIndexError\u001b[0m: index 1 is out of bounds for axis 0 with size 1"
          ]
        }
      ]
    },
    {
      "cell_type": "code",
      "source": [
        "x_in = tf.placeholder(shape=(None,1),dtype=tf.float64)\n",
        "f_in = tf.placeholder(shape=(None,1),dtype=tf.float64)\n",
        "\n",
        "NNhidden0_u = tf.layers.Dense(10,activation='tanh')\n",
        "NNhidden1_u = tf.layers.Dense(10,activation='tanh')\n",
        "NNlinear_u  = tf.layers.Dense(1,activation='linear')\n",
        "def NN_u(x):\n",
        "  return NNlinear_u(NNhidden1_u(NNhidden0_u(x)))\n",
        "u_sol  = NN_u(x_in)\n",
        "uleft  = NN_u(tf.zeros((1,1),tf.float64))\n",
        "uright = NN_u(tf.ones ((1,1),tf.float64))\n",
        "\n",
        "dudx_sol = tf.gradients(u_sol,x_in)[0]\n",
        "d2udxx_sol = tf.gradients(dudx_sol,x_in)[0]\n",
        "\n",
        "PDE_res = tf.reduce_sum( (d2udxx_sol - f_in    )**2)\n",
        "PDE_BC1 = tf.reduce_sum( (uleft      - BCleft  )**2)\n",
        "PDE_BC2 = tf.reduce_sum( (uright     - BCright )**2)\n",
        "\n",
        "#Arbitrarily taking sum of loss function\n",
        "LOSS = PDE_res + PDE_BC1 + PDE_BC2\n",
        "optimizer = tf.train.AdamOptimizer(learning_rate=0.001).minimize(LOSS)\n",
        "sess.run(tf.global_variables_initializer()) #initialize model"
      ],
      "metadata": {
        "id": "Cz_WLekU6HMG"
      },
      "execution_count": null,
      "outputs": []
    },
    {
      "cell_type": "code",
      "source": [
        "data_dict = {x_in:np.expand_dims(points,-1),f_in:np.ones((meshsize,1))}\n",
        "for i in range(10000):\n",
        "  sess.run(optimizer,feed_dict=data_dict)\n",
        "  if i % 100 == 0:\n",
        "    uexact = -0.5*points*(1.0-points)\n",
        "    error = np.sqrt(np.mean(((sess.run(u_sol,feed_dict=data_dict)-uexact)**2)))\n",
        "    print(i,sess.run(LOSS,feed_dict=data_dict),error)"
      ],
      "metadata": {
        "id": "-xhnqSb9IIOv",
        "outputId": "f1b9138f-52af-49b2-924d-53a5b98e5b5e",
        "colab": {
          "base_uri": "https://localhost:8080/"
        }
      },
      "execution_count": null,
      "outputs": [
        {
          "output_type": "stream",
          "name": "stdout",
          "text": [
            "0 1.5757712378786205e-05 0.054822740198611095\n",
            "100 1.6201996154252446e-05 0.054826129903233066\n",
            "200 1.5218757563659172e-05 0.05482274270593398\n",
            "300 1.4985418325533982e-05 0.054822746741423845\n",
            "400 1.4746801354807999e-05 0.05482274878152953\n",
            "500 2.2159603762457465e-05 0.054811446962914026\n",
            "600 1.4278683220725886e-05 0.054822018646498154\n",
            "700 1.4033937372056275e-05 0.05482275359821998\n",
            "800 1.3820183481279146e-05 0.05482275673874316\n",
            "900 1.3601170006047603e-05 0.054822758542744786\n",
            "1000 2.680094990385357e-05 0.0548080577020252\n",
            "1100 1.3161776009385661e-05 0.05482283364875872\n",
            "1200 1.2968895373768328e-05 0.05482276389404449\n",
            "1300 1.2771817215812416e-05 0.05482276625138102\n",
            "1400 1.3090089787549935e-05 0.05481980170082142\n",
            "1500 1.2379119815733176e-05 0.054822172290859415\n",
            "1600 1.2183451579643339e-05 0.05482276324373713\n",
            "1700 1.2007459943011061e-05 0.054822773586933236\n",
            "1800 1.1826933737111275e-05 0.05482277513939391\n",
            "1900 4.439334359629776e-05 0.054847679649050525\n",
            "2000 1.1461330075337938e-05 0.054822997038244316\n",
            "2100 1.1298316558739143e-05 0.05482277677079493\n",
            "2200 1.1135703925275994e-05 0.054822782141842843\n",
            "2300 1.0968797948763753e-05 0.05482278343884513\n",
            "2400 1.1939847128211532e-05 0.05481824322316724\n",
            "2500 1.0639231524721169e-05 0.05482279461530507\n",
            "2600 1.049232660525459e-05 0.05482278790723346\n",
            "2700 1.0341867192370457e-05 0.05482279019696353\n",
            "2800 1.0187384265506409e-05 0.054822793472359986\n",
            "2900 1.0722483886321596e-05 0.054826272952460904\n",
            "3000 9.891705626281478e-06 0.054822771757294456\n",
            "3100 9.75505759099317e-06 0.05482279613271462\n",
            "3200 9.614870938076222e-06 0.05482279773314615\n",
            "3300 1.6644842199639603e-05 0.05481175812584004\n",
            "3400 9.342112212897663e-06 0.05482317400409453\n",
            "3500 9.206253834778042e-06 0.054822802729344984\n",
            "3600 9.078689142008489e-06 0.05482280359789956\n",
            "3700 8.947728066197741e-06 0.054822804706030445\n",
            "3800 0.0003879290290803367 0.05474632791410535\n",
            "3900 8.70593139762574e-06 0.05482232755408327\n",
            "4000 8.57715549598996e-06 0.05482280620356141\n",
            "4100 8.459415267929706e-06 0.05482280991676924\n",
            "4200 8.338581867606566e-06 0.05482281088555249\n",
            "4300 4.9529329841894635e-05 0.054849762405236015\n",
            "4400 8.124372574539124e-06 0.05482227530507978\n",
            "4500 8.000682765633718e-06 0.05482281034017435\n",
            "4600 7.891525879618216e-06 0.05482281479579074\n",
            "4700 7.779616193471554e-06 0.05482281570944958\n",
            "4800 1.2844078814082826e-05 0.05483245035453883\n",
            "4900 7.574539051354531e-06 0.05482286572293737\n",
            "5000 7.475729426367264e-06 0.05482281769623903\n",
            "5100 7.375833989071432e-06 0.05482281817374981\n",
            "5200 7.273607357582484e-06 0.054822819020184384\n",
            "5300 0.000344713517144872 0.05490348508244441\n",
            "5400 7.089467570880266e-06 0.05482278477018653\n",
            "5500 6.9984530441959055e-06 0.05482281821770683\n",
            "5600 6.906892140717486e-06 0.05482282068649362\n",
            "5700 6.813364111167776e-06 0.05482282146891352\n",
            "5800 8.594637957266378e-05 0.054860667767084585\n",
            "5900 6.649363531221758e-06 0.05482288960346944\n",
            "6000 6.565231463484314e-06 0.0548228191523688\n",
            "6100 6.481044307178133e-06 0.05482282295954844\n",
            "6200 6.39513460074055e-06 0.05482282369003127\n",
            "6300 7.054738840166429e-06 0.05482629632986386\n",
            "6400 6.2500664240629395e-06 0.054822744734950024\n",
            "6500 6.173454159783377e-06 0.05482282465854564\n",
            "6600 6.096412136745687e-06 0.05482282541618203\n",
            "6700 6.017817788311049e-06 0.054822826076925735\n",
            "6800 1.5693497003591216e-05 0.05480982812200657\n",
            "6900 5.889311159664153e-06 0.0548227545473836\n",
            "7000 5.819179390670799e-06 0.05482282617213266\n",
            "7100 5.748426895012465e-06 0.05482282799887034\n",
            "7200 5.676235491253137e-06 0.05482282370877621\n",
            "7300 5.828003494850964e-06 0.05482461360946433\n",
            "7400 5.56266398975188e-06 0.05482280675277552\n",
            "7500 5.4983190660136345e-06 0.05482282926448339\n",
            "7600 5.433007315925215e-06 0.05482283050376327\n",
            "7700 5.536723246685129e-06 0.054824557732157345\n",
            "7800 5.4216412804807434e-06 0.05482405647648223\n",
            "7900 5.268155326972402e-06 0.05482283114607372\n",
            "8000 5.2091773777553285e-06 0.054822831959140894\n",
            "8100 5.149287288091641e-06 0.05482283286932405\n",
            "8200 5.095447344774176e-06 0.05482318940994518\n",
            "8300 5.099480636301518e-06 0.054821948464519564\n",
            "8400 4.998808572236365e-06 0.05482283521018757\n",
            "8500 4.944029321556499e-06 0.05482283411907436\n",
            "8600 4.8884710664396115e-06 0.05482283503151591\n",
            "8700 8.570023690410903e-06 0.05483095548845693\n",
            "8800 4.870584353753128e-06 0.054821745975593375\n",
            "8900 4.751523516324582e-06 0.05482282720802909\n",
            "9000 4.700390059711166e-06 0.05482283614192846\n",
            "9100 4.648525831735079e-06 0.054822837058988064\n",
            "9200 0.0007105179139393976 0.054720455002337305\n",
            "9300 4.592259525808678e-06 0.054822256453881814\n",
            "9400 4.524153231155096e-06 0.054822829788965764\n",
            "9500 4.476300004530866e-06 0.05482283821405817\n",
            "9600 4.427774319289228e-06 0.054822838959759604\n",
            "9700 0.00044682147764163325 0.05491562053626159\n",
            "9800 4.362652756700521e-06 0.054822635160863824\n",
            "9900 4.313636791115286e-06 0.05482283355207046\n"
          ]
        }
      ]
    },
    {
      "cell_type": "code",
      "source": [
        "plt.plot(sess.run(u_sol,feed_dict=data_dict),'--')\n",
        "uexact = -0.5*points*(1.0-points)\n",
        "plt.plot(uexact)\n"
      ],
      "metadata": {
        "id": "h_eV_HBAIi-p",
        "outputId": "8f67d2c9-032a-4f6d-bde0-cc5a6429c302",
        "colab": {
          "base_uri": "https://localhost:8080/",
          "height": 447
        }
      },
      "execution_count": null,
      "outputs": [
        {
          "output_type": "execute_result",
          "data": {
            "text/plain": [
              "[<matplotlib.lines.Line2D at 0x7fcba8b092a0>]"
            ]
          },
          "metadata": {},
          "execution_count": 43
        },
        {
          "output_type": "display_data",
          "data": {
            "text/plain": [
              "<Figure size 640x480 with 1 Axes>"
            ],
            "image/png": "[encoded data removed]"
          },
          "metadata": {}
        }
      ]
    },
    {
      "cell_type": "code",
      "source": [],
      "metadata": {
        "id": "CYDJQ6vCLgtw"
      },
      "execution_count": null,
      "outputs": []
    }
  ]
}