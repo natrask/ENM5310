{
 "cells": [
  {
   "cell_type": "markdown",
   "metadata": {},
   "source": [
    "# Assignment 1 (Due Tues 2/6). May be submitted online by midnight through canvas (pdf of hand written notes or latex are preferred), hand calculations may alternatively be submitted during Tues lecture."
   ]
  },
  {
   "cell_type": "markdown",
   "metadata": {},
   "source": [
    "## Problem 1 [10 Points]\n",
    "\n",
    "We fill extend the binary classification code presented in class 1/25 (available on the course repo under Lecture 2.ipynb) to implement a multi-class regression problem. For this you will find $\\mathbf{S}2.5$ of Murphy to be helpful.\n",
    "\n",
    "For the Iris dataset there are 3 classes (Virginica, Versicolor, Setosa). We would like to train a model that will reproduce the plot in figure 2.13.\n",
    "\n",
    "### Subproblem 1 [7 Points]\n",
    "\n",
    "From the panda dataframe presented in class, extract the petal width and length features, and define them as input labels $X_1$ and $X_2$, respectively. Construct a tensorflow model which assigns a distribution to the categorical random variable\n",
    "\n",
    "$$ Y = \n",
    "\\begin{cases}\n",
    "    0,& \\text{if } \\text{class } = \\text{Virginica}\\\\\n",
    "    1,& \\text{if } \\text{class } = \\text{Versicolor}\\\\\n",
    "    2,& \\text{if } \\text{class } = \\text{Setosa}\n",
    "\\end{cases}\n",
    "$$\n",
    "which we will model via\n",
    "$$ p(Y|\\mathbf{x},\\mathbf{W},\\mathbf{b}) = Cat\\left(Y|\\mathcal{S},\\mathbf{W}\\mathbf{x}+\\mathbf{b}\\right)$$\n",
    "where $\\mathcal{S}$ is a softmax, $\\mathbf{W} \\in \\mathbb{R}^{4 \\times 2}$, $\\mathbf{x} \\in \\mathbb{R}^2$, and $\\mathbf{b} \\in \\mathbb{R}^4$. Use the log-sum-exp trick to ensure your model is stable, using the example code from class together with $\\mathcal{S}2.5.4$ of Murphy to understand the syntax and extension from binary to categorical.\n",
    "\n",
    "### Subproblem 2 [3 Points]\n",
    "\n",
    "Visualize the decision boundary of your dataset (i.e. reproduce fig. 2.13) by generating a contour plot of the function $f(x_1,x_2) = \\underset{x_1,x_2}{\\text{argmax}} p(Y|\\mathbf{x},\\mathbf{W},\\mathbf{b})$ over the range of petal widths and lengths provided in the dataset. Superimpose over the contour plot a scatter plot of the input data, colored by their class."
   ]
  },
  {
   "cell_type": "markdown",
   "metadata": {},
   "source": [
    "## Problem 2 [10 Points]\n",
    "\n",
    "Consider a coin that comes up heads with probability $p$ and tails with probability $1-p$. Let $q_n$ be the probability of obtaining an even number of heads in $n$ independent tosses. \n",
    "\n",
    "### Subproblem 1 [5 Points]\n",
    "\n",
    "Derive a recursion that relates $q_n$ to $q_{n-1}$ and establish the formula (4 pts)\n",
    "\n",
    "$$q_n = \\frac{1+(1-2p)^n}{2}$$\n",
    "\n",
    "To hunt for a recurrence relation, you will want to use conditioning to relate $q_n$ to $q_{n-1}$. After obtaining an expression $q_n = f_n(q_{n-1})$ you can then attempt to solve the recurrence relation (1 pt).\n",
    "\n",
    "### Subproblem 2 [5 Points]\n",
    "\n",
    "Let $X$ and $Y$ have joint PDF \n",
    "$$\n",
    "f_{X,Y}(x,y) = \\begin{cases}\n",
    "C e^{-(ax+by)} & x,y \\geq 0\\\\\n",
    "0 & \\text{otherwise}\n",
    "\\end{cases},\n",
    "$$\n",
    "\n",
    "where, $a, b > 0$ are constants\n",
    "\n",
    "- Determine the constant $C$\n",
    "- Find the marginal density of $X$ and $Y$ and use them to demonstrate whether $X$ and $Y$ are independent.\n",
    "- Find $\\mathbb{E}(Y \\mid X> \\frac{\\exp(a^2 + b^2)}{a^4 + b^4})$\n"
   ]
  },
  {
   "cell_type": "markdown",
   "metadata": {},
   "source": [
    "## Problem 2 [5 points] - Working with distributions\n",
    "\n",
    "Let $S_1,S_2,\\ldots,S_n$ be a partition of the sample space $\\Omega$, i.e. $\\Omega = \\cup_i S_i$ and $S_i \\cap S_j = \\emptyset$.\n",
    "- Show that for any event $A$,\n",
    "  $$\\mathbb{P}(A) = \\sum_{i=1}^n \\mathbb{P}\\left({A \\cap S_i}\\right)$$\n",
    "- Use the previous part to show that, for events $A$, $B$ and $C$,\n",
    "  $$\\mathbb{P}\\left({A}\\right) = \\mathbb{P}\\left({A \\cap B}\\right) + \\mathbb{P}\\left({A \\cap C}\\right) + \\mathbb{P}\\left({A \\cap B^c \\cap C^c}\\right) - \\mathbb{P}\\left({A \\cap B \\cap C}\\right)$$\n",
    "- Prove that for any two events $A$ and $B$, we have\n",
    "$$\\mathbb{P} (A \\cap B) \\geq \\mathbb{P}(A) + \\mathbb{P}(B) - 1$$\n",
    "\n",
    "**[You will need to mathematically prove these facts using the list of set operations we covered in the probability crash course. Drawing a diagram is not enough.]**"
   ]
  },
  {
   "cell_type": "markdown",
   "metadata": {},
   "source": [
    "## Problem 3 [10 Points] - Manipulating distribution functions\n",
    "\n",
    "### Subproblem 1 [5 Points]\n",
    "\n",
    "- If $X_1,X_2,\\ldots,X_n$ are independent random variables having the same probability density function $f_X(x)$, what is the probability density function for the random variable $Y=\\text{min}\\{X_1,X_2,\\ldots,X_n\\}$?\n",
    "- Consider two continuous random variables $Y$ and $Z$ and a random variable $X$ that is equal to $Y$ with a probability $p$ and equals $Z$ with a probability $1-p$. Obtain the pdf of $X$ interms of the pdf's of $Y$ and $Z$.\n",
    "\n",
    "### Subproblem 2 [5 Points]\n",
    "\n",
    "The Laplace distribution is given by\n",
    "$$p(x | \\mu, b) = \\frac{1}{2 b} \\exp \\left(-\\frac{|x - \\mu|}{b}\\right)$$\n",
    "\n",
    "Consider a mixture of three Laplace distributions:\n",
    "$p(x) = \\alpha p_1(x) + \\beta p_2(x) + \\gamma p_3(x)$\n",
    "\n",
    "where $\\alpha, \\beta, \\gamma \\in [0,1]$ are mixture weights satisfying $\\alpha + \\beta + \\gamma = 1$ and $p_1(x)$, $p_2(x)$ and $p_3(x)$ are Laplace distributions with different parameters $(\\mu_1, b_1) \\neq (\\mu_2, b_2) \\neq (\\mu_3, b_3)$.\n",
    "\n",
    "Derive the expectation and variance of $p(x)$, analytically, using their definitions."
   ]
  },
  {
   "cell_type": "markdown",
   "metadata": {},
   "source": [
    "## Problem 4 [10 Points] - Computing with Normal distributions\n",
    "\n",
    "As mentioned in class the Gaussian has nice properties which makes it a fundamental tool in statistical infererence. The standard normal $\\mathcal{N}(\\mathbf{x}; \\mathbf{\\mu}, \\mathbf{\\Sigma})$ is defined as\n",
    "\n",
    "$$\n",
    "    \\mathcal{N}(\\mathbf{x}; \\mathbf{\\mu}, \\mathbf{\\Sigma}) = \\frac{1}{\\sqrt{(2 \\pi)^n |\\mathbf{\\Sigma}|}} \\exp \\left[ -\\frac{1}{2} (\\mathbf{x} - \\mathbf{\\mu})^\\top \\Sigma^{-1} (\\mathbf{x} - \\mathbf{\\mu}) \\right]\n",
    "$$\n",
    "\n",
    "Recall that a Gaussian distribution is uniquely specified by its expectation and covariance.\n",
    "\n",
    "- Prove that if $x \\in \\mathbb{R}^d$ is normally distributed, every affine transformation $y = A x + b$ also has a Gaussian distribution. Find its mean and covariance.\n",
    "- Analytically find the KL divergence $\\mathbb{KL}(P || Q)$ between two multivariate normal distributions $p(x) \\sim \\mathcal{N}(\\mathbf{x}; \\mathbf{\\mu}_1, \\mathbf{\\Sigma}_1)$ and $q(x) \\sim \\mathcal{N}(\\mathbf{x}; \\mathbf{\\mu}_2, \\mathbf{\\Sigma}_2)$."
   ]
  }
 ],
 "metadata": {
  "kernelspec": {
   "display_name": "Python 3 (ipykernel)",
   "language": "python",
   "name": "python3"
  },
  "language_info": {
   "codemirror_mode": {
    "name": "ipython",
    "version": 3
   },
   "file_extension": ".py",
   "mimetype": "text/x-python",
   "name": "python",
   "nbconvert_exporter": "python",
   "pygments_lexer": "ipython3",
   "version": "3.10.12"
  },
  "vscode": {
   "interpreter": {
    "hash": "4de6a45db83da0b758db7d08be5de2783b8b59abffac295330c3911b6a615d7b"
   }
  }
 },
 "nbformat": 4,
 "nbformat_minor": 4
}
