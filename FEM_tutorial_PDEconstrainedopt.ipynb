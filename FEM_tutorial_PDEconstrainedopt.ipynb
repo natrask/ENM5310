{
  "nbformat": 4,
  "nbformat_minor": 0,
  "metadata": {
    "colab": {
      "provenance": [],
      "authorship_tag": "ABX9TyMFisllOepsI7qnzd3UYCrr",
      "include_colab_link": true
    },
    "kernelspec": {
      "name": "python3",
      "display_name": "Python 3"
    },
    "language_info": {
      "name": "python"
    }
  },
  "cells": [
    {
      "cell_type": "markdown",
      "metadata": {
        "id": "view-in-github",
        "colab_type": "text"
      },
      "source": [
        "<a href=\"https://colab.research.google.com/github/natrask/ENM5310/blob/main/FEM_tutorial_PDEconstrainedopt.ipynb\" target=\"_parent\"><img src=\"https://colab.research.google.com/assets/colab-badge.svg\" alt=\"Open In Colab\"/></a>"
      ]
    },
    {
      "cell_type": "code",
      "execution_count": 4,
      "metadata": {
        "id": "N51UyFjEOkGx"
      },
      "outputs": [],
      "source": [
        "#!/usr/bin/env python\n",
        "# coding: utf-8\n",
        "# In[91]:\n",
        "import numpy as np\n",
        "import scipy\n",
        "import scipy.sparse\n",
        "import scipy.sparse.linalg\n",
        "import matplotlib.pyplot as plt\n",
        "import tensorflow.compat.v1 as tf\n",
        "tf.disable_v2_behavior()\n",
        "tf.reset_default_graph()\n",
        "config = tf.ConfigProto()\n",
        "sess = tf.Session(config=config)"
      ]
    },
    {
      "cell_type": "code",
      "source": [
        "meshsize= 10\n",
        "h = 1./float(meshsize-1)\n",
        "points = np.linspace(0,1,meshsize)"
      ],
      "metadata": {
        "id": "01BKSyvDOpxB"
      },
      "execution_count": 5,
      "outputs": []
    },
    {
      "cell_type": "markdown",
      "source": [
        "Some helper functions to evaluate tent functions and their derivatives."
      ],
      "metadata": {
        "id": "T05qWM29O8zh"
      }
    },
    {
      "cell_type": "code",
      "source": [
        "def evalPhi_i(x):\n",
        "    return tf.nn.relu(1.0-(tf.abs(tf.expand_dims(x,0)-tf.expand_dims(points,1)))/h)\n",
        "\n",
        "def evalGradPhi_i(x):\n",
        "    suppPhi = tf.cast(evalPhi_i(x)>0,tf.float64)\n",
        "    signPlus = tf.cast(tf.expand_dims(points,1) > tf.expand_dims(x,0),tf.float64)\n",
        "    signNeg = tf.cast(tf.expand_dims(points,1) <= tf.expand_dims(x,0),tf.float64)\n",
        "    return suppPhi*(-signPlus+signNeg)/h\n",
        "\n",
        "def evalKappa(x):\n",
        "    signPlus = tf.cast(tf.expand_dims(x,1) > 0.5,tf.float64)\n",
        "    signNeg = tf.cast(tf.expand_dims(x,1) <= 0.5,tf.float64)\n",
        "    return 1.0*signPlus + 0.1*signNeg"
      ],
      "metadata": {
        "id": "eEO0oRc6OxeC"
      },
      "execution_count": 6,
      "outputs": []
    },
    {
      "cell_type": "markdown",
      "source": [
        "Build up set of quadrature points, evaluate mass and stiffness matrices. Note that we were careful to use a quadrature rule that doesn't evaluate the derivative where it is undefined."
      ],
      "metadata": {
        "id": "BJjqQJLoRudJ"
      }
    },
    {
      "cell_type": "code",
      "source": [
        "# %% Get mass matrices\n",
        "xql = points[:-1]+h*(0.5+1./(2.*np.sqrt(3)))\n",
        "xqr = points[:-1]+h*(0.5-1./(2.*np.sqrt(3)))\n",
        "xq = np.sort(np.concatenate([xql,xqr],axis=0))\n",
        "quad_basisEval = evalPhi_i(xq)\n",
        "\n",
        "# Build up parameterization of kappa as a finite element field\n",
        "kappa_nodal = tf.Variable(np.ones(meshsize),dtype=tf.float64)\n",
        "kappa_quadpts = tf.einsum('nq,n->q',quad_basisEval,kappa_nodal)"
      ],
      "metadata": {
        "id": "NWY32JtSO5sf"
      },
      "execution_count": 27,
      "outputs": []
    },
    {
      "cell_type": "code",
      "source": [
        "\n",
        "#mass matrix of P1 basis functions\n",
        "nodal_basisEval = evalPhi_i(xq)\n",
        "Mnodal=(h/2.)*tf.reduce_sum(tf.expand_dims(nodal_basisEval,0)*tf.expand_dims(nodal_basisEval,1),axis=2)\n",
        "\n",
        "#stiffness matrix of P1 basis functions\n",
        "nodal_gradbasisEval = evalGradPhi_i(xq)\n",
        "tf.expand_dims(nodal_gradbasisEval,0)\n",
        "tf.expand_dims(nodal_gradbasisEval,0)\n",
        "#Snodal = (h/2.)*tf.einsum('qz,ijq->ij',evalKappa(xq),tf.expand_dims(nodal_gradbasisEval,0)*tf.expand_dims(nodal_gradbasisEval,1))\n",
        "Snodal = (h/2.)*tf.einsum('q,ijq->ij',kappa_quadpts,tf.expand_dims(nodal_gradbasisEval,0)*tf.expand_dims(nodal_gradbasisEval,1))\n"
      ],
      "metadata": {
        "id": "Q6P3OjJ8Udhd",
        "outputId": "78f7e0a6-3010-4f52-9c06-aa3196416267",
        "colab": {
          "base_uri": "https://localhost:8080/"
        }
      },
      "execution_count": 29,
      "outputs": [
        {
          "output_type": "execute_result",
          "data": {
            "text/plain": [
              "<tf.Tensor 'Relu_29:0' shape=(10, 18) dtype=float64>"
            ]
          },
          "metadata": {},
          "execution_count": 29
        }
      ]
    },
    {
      "cell_type": "markdown",
      "source": [
        "Visualize shape functions."
      ],
      "metadata": {
        "id": "gxww7BgdR8lM"
      }
    },
    {
      "cell_type": "code",
      "source": [
        "ubc_right = 1.0\n",
        "ubc_left = 0.0\n",
        "forcing = 0.0\n",
        "\n",
        "projForcing = tf.einsum('ij,j->i',Mnodal,forcing*np.ones(meshsize))\n",
        "solution_mat = tf.concat([tf.expand_dims(tf.one_hot(0,meshsize,dtype=tf.float64),0),\n",
        " Snodal[1:meshsize-1,:],\n",
        " tf.expand_dims(tf.one_hot(meshsize-1,meshsize,dtype=tf.float64),0)],\n",
        "          axis=0)\n",
        "solution_rhs = tf.concat([ubc_left*tf.ones((1,),dtype=tf.float64),\n",
        "                          projForcing[1:meshsize-1],\n",
        "                 ubc_right*tf.ones((1,),dtype=tf.float64)],axis=0)\n",
        "\n",
        "u_sol = tf.linalg.solve(solution_mat,tf.expand_dims(solution_rhs,1))\n",
        "dx_sol = tf.einsum('iz,iq,qz->q',u_sol,evalGradPhi_i(xq),evalKappa(xq))"
      ],
      "metadata": {
        "id": "ar_xkwG82B33"
      },
      "execution_count": 45,
      "outputs": []
    },
    {
      "cell_type": "code",
      "source": [
        "u_target = tf.placeholder(dtype=tf.float64,shape=(meshsize,1))\n",
        "LOSS_u = tf.reduce_sum((u_sol-u_target)**2)\n",
        "dudx_target = tf.placeholder(dtype=tf.float64,shape=(meshsize,1))\n",
        "LOSS_dudx = tf.reduce_sum((dx_sol-dudx_target)**2)\n",
        "\n",
        "epsilon = 1.0\n",
        "LOSS_total = LOSS_u + epsilon**2*LOSS_dudx\n",
        "\n",
        "optimizer_step = tf.train.AdamOptimizer(learning_rate=0.001).minimize(CE_LOSS)\n",
        "sess.run(tf.global_variables_initializer()) #initialize model"
      ],
      "metadata": {
        "id": "RWruvAZ_2SRf"
      },
      "execution_count": 46,
      "outputs": []
    },
    {
      "cell_type": "code",
      "source": [],
      "metadata": {
        "id": "Cz_WLekU6HMG"
      },
      "execution_count": null,
      "outputs": []
    }
  ]
}