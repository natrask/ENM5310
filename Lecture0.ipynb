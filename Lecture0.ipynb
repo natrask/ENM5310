{
  "nbformat": 4,
  "nbformat_minor": 0,
  "metadata": {
    "colab": {
      "provenance": [],
      "authorship_tag": "ABX9TyN5BbjoTXM//txHZt65HLAF",
      "include_colab_link": true
    },
    "kernelspec": {
      "name": "python3",
      "display_name": "Python 3"
    },
    "language_info": {
      "name": "python"
    }
  },
  "cells": [
    {
      "cell_type": "markdown",
      "metadata": {
        "id": "view-in-github",
        "colab_type": "text"
      },
      "source": [
        "<a href=\"https://colab.research.google.com/github/natrask/ENM5310/blob/main/Lecture0.ipynb\" target=\"_parent\"><img src=\"https://colab.research.google.com/assets/colab-badge.svg\" alt=\"Open In Colab\"/></a>"
      ]
    },
    {
      "cell_type": "code",
      "execution_count": null,
      "metadata": {
        "id": "qteXnCaSI-QE"
      },
      "outputs": [],
      "source": []
    },
    {
      "cell_type": "markdown",
      "source": [
        "We'll begin by giving a tutorial on tensorflow for performing regression tasks. I choose to work in Tensorflow 1 - this provides the most transparent view of what the model is actually doing. These days most prefer pytorch/jax, or at least tensorflow 2. You can submit homeworks in whichever of these you prefer to work in, but may not use external libraries (e.g. only use Keras when given explicit permission in the assignment, no importing of libraries with pre-implemented architectures, etc). This will let us understand architectures at a low level and avoid \"code-glue\" where we stick random bits of code together without understanding why/how they work."
      ],
      "metadata": {
        "id": "MP96fhyLI_Qa"
      }
    }
  ]
}